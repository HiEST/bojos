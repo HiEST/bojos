{
 "cells": [
  {
   "cell_type": "markdown",
   "metadata": {
    "id": "XY-HU6HLUVHa"
   },
   "source": [
    "# Instalación y funciones prerequisito"
   ]
  },
  {
   "cell_type": "code",
   "execution_count": 2,
   "metadata": {
    "colab": {
     "base_uri": "https://localhost:8080/"
    },
    "executionInfo": {
     "elapsed": 3180,
     "status": "ok",
     "timestamp": 1604667752896,
     "user": {
      "displayName": "Fubu McClander",
      "photoUrl": "https://lh3.googleusercontent.com/a-/AOh14GiZoiZhF6XhXyW64Z5wUBZOsBWsCn7e-4GS-yFdKw=s64",
      "userId": "17579454543106084544"
     },
     "user_tz": -60
    },
    "id": "IEBQtMWcUPcZ",
    "outputId": "288b6f88-6f20-487d-ef6b-bd7dfed0ed36"
   },
   "outputs": [
    {
     "name": "stdout",
     "output_type": "stream",
     "text": [
      "\u001b[1;31merror\u001b[0m: \u001b[1mexternally-managed-environment\u001b[0m\n",
      "\n",
      "\u001b[31m×\u001b[0m This environment is externally managed\n",
      "\u001b[31m╰─>\u001b[0m To install Python packages system-wide, try 'pacman -S\n",
      "\u001b[31m   \u001b[0m python-xyz', where xyz is the package you are trying to\n",
      "\u001b[31m   \u001b[0m install.\n",
      "\u001b[31m   \u001b[0m \n",
      "\u001b[31m   \u001b[0m If you wish to install a non-Arch-packaged Python package,\n",
      "\u001b[31m   \u001b[0m create a virtual environment using 'python -m venv path/to/venv'.\n",
      "\u001b[31m   \u001b[0m Then use path/to/venv/bin/python and path/to/venv/bin/pip.\n",
      "\u001b[31m   \u001b[0m \n",
      "\u001b[31m   \u001b[0m If you wish to install a non-Arch packaged Python application,\n",
      "\u001b[31m   \u001b[0m it may be easiest to use 'pipx install xyz', which will manage a\n",
      "\u001b[31m   \u001b[0m virtual environment for you. Make sure you have python-pipx\n",
      "\u001b[31m   \u001b[0m installed via pacman.\n",
      "\n",
      "\u001b[1;35mnote\u001b[0m: If you believe this is a mistake, please contact your Python installation or OS distribution provider. You can override this, at the risk of breaking your Python installation or OS, by passing --break-system-packages.\n",
      "\u001b[1;36mhint\u001b[0m: See PEP 668 for the detailed specification.\n"
     ]
    }
   ],
   "source": [
    "!pip install plotly_express\n",
    "!wget -O tracelib.py https://raw.githubusercontent.com/HiEST/bojos/master/traces/tracelib.py"
   ]
  },
  {
   "cell_type": "code",
   "execution_count": 1,
   "metadata": {
    "colab": {
     "base_uri": "https://localhost:8080/"
    },
    "executionInfo": {
     "elapsed": 3539,
     "status": "ok",
     "timestamp": 1604667753268,
     "user": {
      "displayName": "Fubu McClander",
      "photoUrl": "https://lh3.googleusercontent.com/a-/AOh14GiZoiZhF6XhXyW64Z5wUBZOsBWsCn7e-4GS-yFdKw=s64",
      "userId": "17579454543106084544"
     },
     "user_tz": -60
    },
    "id": "PJXqsmkaCCYN",
    "outputId": "45845015-6dfd-4e56-aad7-a10c619d6d87",
    "scrolled": true
   },
   "outputs": [
    {
     "ename": "ModuleNotFoundError",
     "evalue": "No module named 'google'",
     "output_type": "error",
     "traceback": [
      "\u001b[0;31m---------------------------------------------------------------------------\u001b[0m",
      "\u001b[0;31mModuleNotFoundError\u001b[0m                       Traceback (most recent call last)",
      "Cell \u001b[0;32mIn[1], line 2\u001b[0m\n\u001b[1;32m      1\u001b[0m \u001b[38;5;28;01mfrom\u001b[39;00m \u001b[38;5;21;01mtracelib\u001b[39;00m \u001b[38;5;28;01mimport\u001b[39;00m \u001b[38;5;241m*\u001b[39m\n\u001b[0;32m----> 2\u001b[0m \u001b[38;5;28;01mfrom\u001b[39;00m \u001b[38;5;21;01mgoogle\u001b[39;00m\u001b[38;5;21;01m.\u001b[39;00m\u001b[38;5;21;01mcolab\u001b[39;00m \u001b[38;5;28;01mimport\u001b[39;00m files\n",
      "\u001b[0;31mModuleNotFoundError\u001b[0m: No module named 'google'"
     ]
    }
   ],
   "source": [
    "from tracelib import *\n",
    "from google.colab import files"
   ]
  },
  {
   "cell_type": "markdown",
   "metadata": {
    "id": "riuUF8y1TbtA"
   },
   "source": [
    "# Leer datos"
   ]
  },
  {
   "cell_type": "code",
   "execution_count": null,
   "metadata": {
    "colab": {
     "base_uri": "https://localhost:8080/",
     "height": 81,
     "resources": {
      "http://localhost:8080/nbextensions/google.colab/files.js": {
       "data": "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",
       "headers": [
        [
         "content-type",
         "application/javascript"
        ]
       ],
       "ok": true,
       "status": 200,
       "status_text": "OK"
      }
     }
    },
    "executionInfo": {
     "elapsed": 14379,
     "status": "ok",
     "timestamp": 1604667764124,
     "user": {
      "displayName": "Fubu McClander",
      "photoUrl": "https://lh3.googleusercontent.com/a-/AOh14GiZoiZhF6XhXyW64Z5wUBZOsBWsCn7e-4GS-yFdKw=s64",
      "userId": "17579454543106084544"
     },
     "user_tz": -60
    },
    "id": "r2qdwd6CUrkG",
    "outputId": "4ee6bb1b-52de-4277-94a6-f8b6fc5485c1"
   },
   "outputs": [],
   "source": [
    "uploaded = files.upload()\n",
    "filename = list(uploaded.keys())[0]\n",
    "traces = pd.read_csv(filename)"
   ]
  },
  {
   "cell_type": "markdown",
   "metadata": {
    "id": "rQs1xX-cYefA"
   },
   "source": [
    "Después de cargar los datos, probamos a sacar los 10 primeros."
   ]
  },
  {
   "cell_type": "code",
   "execution_count": null,
   "metadata": {
    "colab": {
     "base_uri": "https://localhost:8080/",
     "height": 363
    },
    "executionInfo": {
     "elapsed": 14380,
     "status": "ok",
     "timestamp": 1604667764140,
     "user": {
      "displayName": "Fubu McClander",
      "photoUrl": "https://lh3.googleusercontent.com/a-/AOh14GiZoiZhF6XhXyW64Z5wUBZOsBWsCn7e-4GS-yFdKw=s64",
      "userId": "17579454543106084544"
     },
     "user_tz": -60
    },
    "id": "JvaFUb_lU4y4",
    "outputId": "3234f7c5-c382-43d2-929e-91ebbe91bce4"
   },
   "outputs": [],
   "source": [
    "traces.head(10)"
   ]
  },
  {
   "cell_type": "markdown",
   "metadata": {
    "id": "mxrDGJO0CCYs"
   },
   "source": [
    "# Acumulado de cada traza"
   ]
  },
  {
   "cell_type": "markdown",
   "metadata": {
    "id": "QbKKbzPNYMgw"
   },
   "source": [
    "Para hacer esto utilizaremos las funciones `drop` para quitar columnas no necesarias para el resumen de los datos, `grouby` para agrupar por el identificador de sesión y `sum` para obtener la suma."
   ]
  },
  {
   "cell_type": "code",
   "execution_count": null,
   "metadata": {
    "colab": {
     "base_uri": "https://localhost:8080/",
     "height": 175
    },
    "executionInfo": {
     "elapsed": 14370,
     "status": "ok",
     "timestamp": 1604667764147,
     "user": {
      "displayName": "Fubu McClander",
      "photoUrl": "https://lh3.googleusercontent.com/a-/AOh14GiZoiZhF6XhXyW64Z5wUBZOsBWsCn7e-4GS-yFdKw=s64",
      "userId": "17579454543106084544"
     },
     "user_tz": -60
    },
    "id": "M40UOa03TYAa",
    "outputId": "562f4f5c-06ab-4ab1-cdf4-799357509d51"
   },
   "outputs": [],
   "source": [
    "traces.drop(columns = ['timestamp', 'uid', 'gid', 'lat', 'lon']).groupby('sid').sum()\n"
   ]
  },
  {
   "cell_type": "markdown",
   "metadata": {
    "id": "EXPNOXJ-ZvD-"
   },
   "source": [
    "# Suma de Motor Principal y Motor Auxiliar"
   ]
  },
  {
   "cell_type": "code",
   "execution_count": null,
   "metadata": {
    "executionInfo": {
     "elapsed": 14379,
     "status": "ok",
     "timestamp": 1604667764164,
     "user": {
      "displayName": "Fubu McClander",
      "photoUrl": "https://lh3.googleusercontent.com/a-/AOh14GiZoiZhF6XhXyW64Z5wUBZOsBWsCn7e-4GS-yFdKw=s64",
      "userId": "17579454543106084544"
     },
     "user_tz": -60
    },
    "id": "X2nN6SBQZRbt"
   },
   "outputs": [],
   "source": [
    "traces['nox'] = traces.apply(lambda row: row.noxme + row.noxae, axis=1)\n",
    "traces['sox'] = traces.apply(lambda row: row.soxme + row.soxae, axis=1)\n",
    "traces['co2'] = traces.apply(lambda row: row.co2me + row.co2ae, axis=1)\n",
    "traces['co'] = traces.apply(lambda row: row.come + row.coae, axis=1)"
   ]
  },
  {
   "cell_type": "markdown",
   "metadata": {
    "id": "4WXt-YkZCCY4"
   },
   "source": [
    "# Traza 1"
   ]
  },
  {
   "cell_type": "code",
   "execution_count": null,
   "metadata": {
    "executionInfo": {
     "elapsed": 14376,
     "status": "ok",
     "timestamp": 1604667764169,
     "user": {
      "displayName": "Fubu McClander",
      "photoUrl": "https://lh3.googleusercontent.com/a-/AOh14GiZoiZhF6XhXyW64Z5wUBZOsBWsCn7e-4GS-yFdKw=s64",
      "userId": "17579454543106084544"
     },
     "user_tz": -60
    },
    "id": "E5rF1PhvCCY6"
   },
   "outputs": [],
   "source": [
    "trace1 = traces[traces.sid == 1]"
   ]
  },
  {
   "cell_type": "code",
   "execution_count": null,
   "metadata": {
    "colab": {
     "base_uri": "https://localhost:8080/",
     "height": 1000
    },
    "executionInfo": {
     "elapsed": 15418,
     "status": "ok",
     "timestamp": 1604667765229,
     "user": {
      "displayName": "Fubu McClander",
      "photoUrl": "https://lh3.googleusercontent.com/a-/AOh14GiZoiZhF6XhXyW64Z5wUBZOsBWsCn7e-4GS-yFdKw=s64",
      "userId": "17579454543106084544"
     },
     "user_tz": -60
    },
    "id": "Ozu2Zg1gCCZD",
    "outputId": "24ef47c7-dbd8-4e1e-cf5c-ceca67e399fb"
   },
   "outputs": [],
   "source": [
    "pollutant = \"co2\" # nox, sox, co2, co\n",
    "plot_trace(trace1, height = 600, pollutant = pollutant)\n",
    "plot_trace_line(trace1, height = 600)"
   ]
  },
  {
   "cell_type": "markdown",
   "metadata": {
    "id": "lik-26k_CCZM"
   },
   "source": [
    "# Traza 2"
   ]
  },
  {
   "cell_type": "code",
   "execution_count": null,
   "metadata": {
    "executionInfo": {
     "elapsed": 15405,
     "status": "ok",
     "timestamp": 1604667765232,
     "user": {
      "displayName": "Fubu McClander",
      "photoUrl": "https://lh3.googleusercontent.com/a-/AOh14GiZoiZhF6XhXyW64Z5wUBZOsBWsCn7e-4GS-yFdKw=s64",
      "userId": "17579454543106084544"
     },
     "user_tz": -60
    },
    "id": "NJJ3HkHQCCZN"
   },
   "outputs": [],
   "source": [
    "trace2 = traces[traces.sid == 2]"
   ]
  },
  {
   "cell_type": "code",
   "execution_count": null,
   "metadata": {
    "colab": {
     "base_uri": "https://localhost:8080/",
     "height": 1000
    },
    "executionInfo": {
     "elapsed": 15378,
     "status": "ok",
     "timestamp": 1604667765235,
     "user": {
      "displayName": "Fubu McClander",
      "photoUrl": "https://lh3.googleusercontent.com/a-/AOh14GiZoiZhF6XhXyW64Z5wUBZOsBWsCn7e-4GS-yFdKw=s64",
      "userId": "17579454543106084544"
     },
     "user_tz": -60
    },
    "id": "cvOTtGdrCCZW",
    "outputId": "0354aaf6-4fdf-4e03-94d7-0f42a35d6065"
   },
   "outputs": [],
   "source": [
    "pollutant = \"nox\" # nox, sox, co2, co\n",
    "plot_trace(trace2, height = 600, pollutant = pollutant)\n",
    "plot_trace_line(trace2, height = 600)"
   ]
  },
  {
   "cell_type": "markdown",
   "metadata": {
    "id": "riHOmQWICCZc"
   },
   "source": [
    "# Traza 3"
   ]
  },
  {
   "cell_type": "code",
   "execution_count": null,
   "metadata": {
    "executionInfo": {
     "elapsed": 15346,
     "status": "ok",
     "timestamp": 1604667765237,
     "user": {
      "displayName": "Fubu McClander",
      "photoUrl": "https://lh3.googleusercontent.com/a-/AOh14GiZoiZhF6XhXyW64Z5wUBZOsBWsCn7e-4GS-yFdKw=s64",
      "userId": "17579454543106084544"
     },
     "user_tz": -60
    },
    "id": "48GdHDZFCCZd"
   },
   "outputs": [],
   "source": [
    "trace3 = traces[traces.sid == 3]"
   ]
  },
  {
   "cell_type": "code",
   "execution_count": null,
   "metadata": {
    "colab": {
     "base_uri": "https://localhost:8080/",
     "height": 1000
    },
    "executionInfo": {
     "elapsed": 15987,
     "status": "ok",
     "timestamp": 1604667765902,
     "user": {
      "displayName": "Fubu McClander",
      "photoUrl": "https://lh3.googleusercontent.com/a-/AOh14GiZoiZhF6XhXyW64Z5wUBZOsBWsCn7e-4GS-yFdKw=s64",
      "userId": "17579454543106084544"
     },
     "user_tz": -60
    },
    "id": "7LSHA3b_CCZl",
    "outputId": "cf9fd3cd-c02c-45a1-9d9c-f1e8aa0dbbab"
   },
   "outputs": [],
   "source": [
    "pollutant = \"nox\" # nox, sox, co2, co\n",
    "plot_trace(trace3, height = 600, pollutant = pollutant)\n",
    "plot_trace_line(trace3, height = 600)"
   ]
  },
  {
   "cell_type": "markdown",
   "metadata": {
    "id": "YJEdo97ICCZs"
   },
   "source": [
    "# Traza 4"
   ]
  },
  {
   "cell_type": "code",
   "execution_count": null,
   "metadata": {
    "executionInfo": {
     "elapsed": 15978,
     "status": "ok",
     "timestamp": 1604667765905,
     "user": {
      "displayName": "Fubu McClander",
      "photoUrl": "https://lh3.googleusercontent.com/a-/AOh14GiZoiZhF6XhXyW64Z5wUBZOsBWsCn7e-4GS-yFdKw=s64",
      "userId": "17579454543106084544"
     },
     "user_tz": -60
    },
    "id": "XtPKxVAbCCZt"
   },
   "outputs": [],
   "source": [
    "trace4 = traces[traces.sid == 4]"
   ]
  },
  {
   "cell_type": "code",
   "execution_count": null,
   "metadata": {
    "colab": {
     "base_uri": "https://localhost:8080/",
     "height": 1000
    },
    "executionInfo": {
     "elapsed": 16352,
     "status": "ok",
     "timestamp": 1604667766292,
     "user": {
      "displayName": "Fubu McClander",
      "photoUrl": "https://lh3.googleusercontent.com/a-/AOh14GiZoiZhF6XhXyW64Z5wUBZOsBWsCn7e-4GS-yFdKw=s64",
      "userId": "17579454543106084544"
     },
     "user_tz": -60
    },
    "id": "k6Vh_cYuCCZ0",
    "outputId": "7deb836e-465a-42b1-fed5-4837ec58fb21",
    "scrolled": true
   },
   "outputs": [],
   "source": [
    "pollutant = \"nox\" # nox, sox, co2, co\n",
    "plot_trace(trace4, height = 600, pollutant = pollutant)\n",
    "plot_trace_line(trace4, height = 600)"
   ]
  },
  {
   "cell_type": "markdown",
   "metadata": {
    "id": "Ks1ZhBiECCZ_"
   },
   "source": [
    "# Traza 5"
   ]
  },
  {
   "cell_type": "code",
   "execution_count": null,
   "metadata": {
    "executionInfo": {
     "elapsed": 16343,
     "status": "ok",
     "timestamp": 1604667766294,
     "user": {
      "displayName": "Fubu McClander",
      "photoUrl": "https://lh3.googleusercontent.com/a-/AOh14GiZoiZhF6XhXyW64Z5wUBZOsBWsCn7e-4GS-yFdKw=s64",
      "userId": "17579454543106084544"
     },
     "user_tz": -60
    },
    "id": "RvGKJVFqCCaA"
   },
   "outputs": [],
   "source": [
    "trace5 = traces[traces.sid == 5]"
   ]
  },
  {
   "cell_type": "code",
   "execution_count": null,
   "metadata": {
    "colab": {
     "base_uri": "https://localhost:8080/",
     "height": 1000
    },
    "executionInfo": {
     "elapsed": 17720,
     "status": "ok",
     "timestamp": 1604667767689,
     "user": {
      "displayName": "Fubu McClander",
      "photoUrl": "https://lh3.googleusercontent.com/a-/AOh14GiZoiZhF6XhXyW64Z5wUBZOsBWsCn7e-4GS-yFdKw=s64",
      "userId": "17579454543106084544"
     },
     "user_tz": -60
    },
    "id": "tbQdvm-BCCaL",
    "outputId": "5dba8c1c-220e-4c52-fc0d-ea14adbf6536"
   },
   "outputs": [],
   "source": [
    "pollutant = \"nox\" # nox, sox, co2, co\n",
    "plot_trace(trace5, height = 600, pollutant = pollutant)\n",
    "plot_trace_line(trace5, height = 600)"
   ]
  },
  {
   "cell_type": "markdown",
   "metadata": {
    "id": "p7q0YkAKCCaU"
   },
   "source": [
    "# Traza 6"
   ]
  },
  {
   "cell_type": "code",
   "execution_count": null,
   "metadata": {
    "executionInfo": {
     "elapsed": 17710,
     "status": "ok",
     "timestamp": 1604667767691,
     "user": {
      "displayName": "Fubu McClander",
      "photoUrl": "https://lh3.googleusercontent.com/a-/AOh14GiZoiZhF6XhXyW64Z5wUBZOsBWsCn7e-4GS-yFdKw=s64",
      "userId": "17579454543106084544"
     },
     "user_tz": -60
    },
    "id": "LmRkaxrMCCaX"
   },
   "outputs": [],
   "source": [
    "trace6 = traces[traces.sid == 6]"
   ]
  },
  {
   "cell_type": "code",
   "execution_count": null,
   "metadata": {
    "colab": {
     "base_uri": "https://localhost:8080/",
     "height": 1000
    },
    "executionInfo": {
     "elapsed": 17984,
     "status": "ok",
     "timestamp": 1604667767992,
     "user": {
      "displayName": "Fubu McClander",
      "photoUrl": "https://lh3.googleusercontent.com/a-/AOh14GiZoiZhF6XhXyW64Z5wUBZOsBWsCn7e-4GS-yFdKw=s64",
      "userId": "17579454543106084544"
     },
     "user_tz": -60
    },
    "id": "ist2dit4CCal",
    "outputId": "546cd64a-40d0-4e18-819a-66bb7bde75fb"
   },
   "outputs": [],
   "source": [
    "pollutant = \"nox\" # nox, sox, co2, co\n",
    "plot_trace(trace6, height = 600, pollutant = pollutant)\n",
    "plot_trace_line(trace6, height = 600)"
   ]
  }
 ],
 "metadata": {
  "colab": {
   "collapsed_sections": [],
   "name": "ShowTrace.ipynb",
   "provenance": []
  },
  "jupytext": {
   "cell_metadata_filter": "-all",
   "notebook_metadata_filter": "-all"
  },
  "kernelspec": {
   "display_name": "myenv",
   "language": "python",
   "name": "myenv"
  },
  "language_info": {
   "codemirror_mode": {
    "name": "ipython",
    "version": 3
   },
   "file_extension": ".py",
   "mimetype": "text/x-python",
   "name": "python",
   "nbconvert_exporter": "python",
   "pygments_lexer": "ipython3",
   "version": "3.11.8"
  },
  "toc": {
   "base_numbering": 1,
   "nav_menu": {},
   "number_sections": true,
   "sideBar": false,
   "skip_h1_title": false,
   "title_cell": "Table of Contents",
   "title_sidebar": "Contents",
   "toc_cell": false,
   "toc_position": {},
   "toc_section_display": true,
   "toc_window_display": false
  }
 },
 "nbformat": 4,
 "nbformat_minor": 4
}
