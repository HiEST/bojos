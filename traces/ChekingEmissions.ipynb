{
 "cells": [
  {
   "cell_type": "code",
   "execution_count": null,
   "metadata": {
    "colab": {
     "base_uri": "https://localhost:8080/"
    },
    "executionInfo": {
     "elapsed": 3322,
     "status": "ok",
     "timestamp": 1604667360759,
     "user": {
      "displayName": "Fubu McClander",
      "photoUrl": "https://lh3.googleusercontent.com/a-/AOh14GiZoiZhF6XhXyW64Z5wUBZOsBWsCn7e-4GS-yFdKw=s64",
      "userId": "17579454543106084544"
     },
     "user_tz": -60
    },
    "id": "TGaY1KRRcbs8",
    "outputId": "758b172e-93d4-46c6-a3c5-e86422eb71e1"
   },
   "outputs": [],
   "source": [
    "!pip install plotly_express\n",
    "!wget -O tracelib.py https://raw.githubusercontent.com/HiEST/bojos/master/traces/tracelib.py\n",
    "#!wget -O emissions_eq_pyc.pyc https://raw.githubusercontent.com/HiEST/bojos/master/traces/emissions_eq_pyc.pyc\n",
    "!wget -O emissions_eq.py https://raw.githubusercontent.com/HiEST/bojos/master/traces/emissions_eq.py"
   ]
  },
  {
   "cell_type": "code",
   "execution_count": null,
   "metadata": {
    "executionInfo": {
     "elapsed": 1218,
     "status": "ok",
     "timestamp": 1604667381439,
     "user": {
      "displayName": "Fubu McClander",
      "photoUrl": "https://lh3.googleusercontent.com/a-/AOh14GiZoiZhF6XhXyW64Z5wUBZOsBWsCn7e-4GS-yFdKw=s64",
      "userId": "17579454543106084544"
     },
     "user_tz": -60
    },
    "id": "WtvKT_A7cbtO"
   },
   "outputs": [],
   "source": [
    "import datetime\n",
    "#from emissions_eq_pyc import *\n",
    "from emissions_eq import *\n",
    "from google.colab import files\n",
    "from tracelib import *"
   ]
  },
  {
   "cell_type": "code",
   "execution_count": null,
   "metadata": {
    "colab": {
     "base_uri": "https://localhost:8080/",
     "height": 81,
     "resources": {
      "http://localhost:8080/nbextensions/google.colab/files.js": {
       "data": "Ly8gQ29weXJpZ2h0IDIwMTcgR29vZ2xlIExMQwovLwovLyBMaWNlbnNlZCB1bmRlciB0aGUgQXBhY2hlIExpY2Vuc2UsIFZlcnNpb24gMi4wICh0aGUgIkxpY2Vuc2UiKTsKLy8geW91IG1heSBub3QgdXNlIHRoaXMgZmlsZSBleGNlcHQgaW4gY29tcGxpYW5jZSB3aXRoIHRoZSBMaWNlbnNlLgovLyBZb3UgbWF5IG9idGFpbiBhIGNvcHkgb2YgdGhlIExpY2Vuc2UgYXQKLy8KLy8gICAgICBodHRwOi8vd3d3LmFwYWNoZS5vcmcvbGljZW5zZXMvTElDRU5TRS0yLjAKLy8KLy8gVW5sZXNzIHJlcXVpcmVkIGJ5IGFwcGxpY2FibGUgbGF3IG9yIGFncmVlZCB0byBpbiB3cml0aW5nLCBzb2Z0d2FyZQovLyBkaXN0cmlidXRlZCB1bmRlciB0aGUgTGljZW5zZSBpcyBkaXN0cmlidXRlZCBvbiBhbiAiQVMgSVMiIEJBU0lTLAovLyBXSVRIT1VUIFdBUlJBTlRJRVMgT1IgQ09ORElUSU9OUyBPRiBBTlkgS0lORCwgZWl0aGVyIGV4cHJlc3Mgb3IgaW1wbGllZC4KLy8gU2VlIHRoZSBMaWNlbnNlIGZvciB0aGUgc3BlY2lmaWMgbGFuZ3VhZ2UgZ292ZXJuaW5nIHBlcm1pc3Npb25zIGFuZAovLyBsaW1pdGF0aW9ucyB1bmRlciB0aGUgTGljZW5zZS4KCi8qKgogKiBAZmlsZW92ZXJ2aWV3IEhlbHBlcnMgZm9yIGdvb2dsZS5jb2xhYiBQeXRob24gbW9kdWxlLgogKi8KKGZ1bmN0aW9uKHNjb3BlKSB7CmZ1bmN0aW9uIHNwYW4odGV4dCwgc3R5bGVBdHRyaWJ1dGVzID0ge30pIHsKICBjb25zdCBlbGVtZW50ID0gZG9jdW1lbnQuY3JlYXRlRWxlbWVudCgnc3BhbicpOwogIGVsZW1lbnQudGV4dENvbnRlbnQgPSB0ZXh0OwogIGZvciAoY29uc3Qga2V5IG9mIE9iamVjdC5rZXlzKHN0eWxlQXR0cmlidXRlcykpIHsKICAgIGVsZW1lbnQuc3R5bGVba2V5XSA9IHN0eWxlQXR0cmlidXRlc1trZXldOwogIH0KICByZXR1cm4gZWxlbWVudDsKfQoKLy8gTWF4IG51bWJlciBvZiBieXRlcyB3aGljaCB3aWxsIGJlIHVwbG9hZGVkIGF0IGEgdGltZS4KY29uc3QgTUFYX1BBWUxPQURfU0laRSA9IDEwMCAqIDEwMjQ7CgpmdW5jdGlvbiBfdXBsb2FkRmlsZXMoaW5wdXRJZCwgb3V0cHV0SWQpIHsKICBjb25zdCBzdGVwcyA9IHVwbG9hZEZpbGVzU3RlcChpbnB1dElkLCBvdXRwdXRJZCk7CiAgY29uc3Qgb3V0cHV0RWxlbWVudCA9IGRvY3VtZW50LmdldEVsZW1lbnRCeUlkKG91dHB1dElkKTsKICAvLyBDYWNoZSBzdGVwcyBvbiB0aGUgb3V0cHV0RWxlbWVudCB0byBtYWtlIGl0IGF2YWlsYWJsZSBmb3IgdGhlIG5leHQgY2FsbAogIC8vIHRvIHVwbG9hZEZpbGVzQ29udGludWUgZnJvbSBQeXRob24uCiAgb3V0cHV0RWxlbWVudC5zdGVwcyA9IHN0ZXBzOwoKICByZXR1cm4gX3VwbG9hZEZpbGVzQ29udGludWUob3V0cHV0SWQpOwp9CgovLyBUaGlzIGlzIHJvdWdobHkgYW4gYXN5bmMgZ2VuZXJhdG9yIChub3Qgc3VwcG9ydGVkIGluIHRoZSBicm93c2VyIHlldCksCi8vIHdoZXJlIHRoZXJlIGFyZSBtdWx0aXBsZSBhc3luY2hyb25vdXMgc3RlcHMgYW5kIHRoZSBQeXRob24gc2lkZSBpcyBnb2luZwovLyB0byBwb2xsIGZvciBjb21wbGV0aW9uIG9mIGVhY2ggc3RlcC4KLy8gVGhpcyB1c2VzIGEgUHJvbWlzZSB0byBibG9jayB0aGUgcHl0aG9uIHNpZGUgb24gY29tcGxldGlvbiBvZiBlYWNoIHN0ZXAsCi8vIHRoZW4gcGFzc2VzIHRoZSByZXN1bHQgb2YgdGhlIHByZXZpb3VzIHN0ZXAgYXMgdGhlIGlucHV0IHRvIHRoZSBuZXh0IHN0ZXAuCmZ1bmN0aW9uIF91cGxvYWRGaWxlc0NvbnRpbnVlKG91dHB1dElkKSB7CiAgY29uc3Qgb3V0cHV0RWxlbWVudCA9IGRvY3VtZW50LmdldEVsZW1lbnRCeUlkKG91dHB1dElkKTsKICBjb25zdCBzdGVwcyA9IG91dHB1dEVsZW1lbnQuc3RlcHM7CgogIGNvbnN0IG5leHQgPSBzdGVwcy5uZXh0KG91dHB1dEVsZW1lbnQubGFzdFByb21pc2VWYWx1ZSk7CiAgcmV0dXJuIFByb21pc2UucmVzb2x2ZShuZXh0LnZhbHVlLnByb21pc2UpLnRoZW4oKHZhbHVlKSA9PiB7CiAgICAvLyBDYWNoZSB0aGUgbGFzdCBwcm9taXNlIHZhbHVlIHRvIG1ha2UgaXQgYXZhaWxhYmxlIHRvIHRoZSBuZXh0CiAgICAvLyBzdGVwIG9mIHRoZSBnZW5lcmF0b3IuCiAgICBvdXRwdXRFbGVtZW50Lmxhc3RQcm9taXNlVmFsdWUgPSB2YWx1ZTsKICAgIHJldHVybiBuZXh0LnZhbHVlLnJlc3BvbnNlOwogIH0pOwp9CgovKioKICogR2VuZXJhdG9yIGZ1bmN0aW9uIHdoaWNoIGlzIGNhbGxlZCBiZXR3ZWVuIGVhY2ggYXN5bmMgc3RlcCBvZiB0aGUgdXBsb2FkCiAqIHByb2Nlc3MuCiAqIEBwYXJhbSB7c3RyaW5nfSBpbnB1dElkIEVsZW1lbnQgSUQgb2YgdGhlIGlucHV0IGZpbGUgcGlja2VyIGVsZW1lbnQuCiAqIEBwYXJhbSB7c3RyaW5nfSBvdXRwdXRJZCBFbGVtZW50IElEIG9mIHRoZSBvdXRwdXQgZGlzcGxheS4KICogQHJldHVybiB7IUl0ZXJhYmxlPCFPYmplY3Q+fSBJdGVyYWJsZSBvZiBuZXh0IHN0ZXBzLgogKi8KZnVuY3Rpb24qIHVwbG9hZEZpbGVzU3RlcChpbnB1dElkLCBvdXRwdXRJZCkgewogIGNvbnN0IGlucHV0RWxlbWVudCA9IGRvY3VtZW50LmdldEVsZW1lbnRCeUlkKGlucHV0SWQpOwogIGlucHV0RWxlbWVudC5kaXNhYmxlZCA9IGZhbHNlOwoKICBjb25zdCBvdXRwdXRFbGVtZW50ID0gZG9jdW1lbnQuZ2V0RWxlbWVudEJ5SWQob3V0cHV0SWQpOwogIG91dHB1dEVsZW1lbnQuaW5uZXJIVE1MID0gJyc7CgogIGNvbnN0IHBpY2tlZFByb21pc2UgPSBuZXcgUHJvbWlzZSgocmVzb2x2ZSkgPT4gewogICAgaW5wdXRFbGVtZW50LmFkZEV2ZW50TGlzdGVuZXIoJ2NoYW5nZScsIChlKSA9PiB7CiAgICAgIHJlc29sdmUoZS50YXJnZXQuZmlsZXMpOwogICAgfSk7CiAgfSk7CgogIGNvbnN0IGNhbmNlbCA9IGRvY3VtZW50LmNyZWF0ZUVsZW1lbnQoJ2J1dHRvbicpOwogIGlucHV0RWxlbWVudC5wYXJlbnRFbGVtZW50LmFwcGVuZENoaWxkKGNhbmNlbCk7CiAgY2FuY2VsLnRleHRDb250ZW50ID0gJ0NhbmNlbCB1cGxvYWQnOwogIGNvbnN0IGNhbmNlbFByb21pc2UgPSBuZXcgUHJvbWlzZSgocmVzb2x2ZSkgPT4gewogICAgY2FuY2VsLm9uY2xpY2sgPSAoKSA9PiB7CiAgICAgIHJlc29sdmUobnVsbCk7CiAgICB9OwogIH0pOwoKICAvLyBXYWl0IGZvciB0aGUgdXNlciB0byBwaWNrIHRoZSBmaWxlcy4KICBjb25zdCBmaWxlcyA9IHlpZWxkIHsKICAgIHByb21pc2U6IFByb21pc2UucmFjZShbcGlja2VkUHJvbWlzZSwgY2FuY2VsUHJvbWlzZV0pLAogICAgcmVzcG9uc2U6IHsKICAgICAgYWN0aW9uOiAnc3RhcnRpbmcnLAogICAgfQogIH07CgogIGNhbmNlbC5yZW1vdmUoKTsKCiAgLy8gRGlzYWJsZSB0aGUgaW5wdXQgZWxlbWVudCBzaW5jZSBmdXJ0aGVyIHBpY2tzIGFyZSBub3QgYWxsb3dlZC4KICBpbnB1dEVsZW1lbnQuZGlzYWJsZWQgPSB0cnVlOwoKICBpZiAoIWZpbGVzKSB7CiAgICByZXR1cm4gewogICAgICByZXNwb25zZTogewogICAgICAgIGFjdGlvbjogJ2NvbXBsZXRlJywKICAgICAgfQogICAgfTsKICB9CgogIGZvciAoY29uc3QgZmlsZSBvZiBmaWxlcykgewogICAgY29uc3QgbGkgPSBkb2N1bWVudC5jcmVhdGVFbGVtZW50KCdsaScpOwogICAgbGkuYXBwZW5kKHNwYW4oZmlsZS5uYW1lLCB7Zm9udFdlaWdodDogJ2JvbGQnfSkpOwogICAgbGkuYXBwZW5kKHNwYW4oCiAgICAgICAgYCgke2ZpbGUudHlwZSB8fCAnbi9hJ30pIC0gJHtmaWxlLnNpemV9IGJ5dGVzLCBgICsKICAgICAgICBgbGFzdCBtb2RpZmllZDogJHsKICAgICAgICAgICAgZmlsZS5sYXN0TW9kaWZpZWREYXRlID8gZmlsZS5sYXN0TW9kaWZpZWREYXRlLnRvTG9jYWxlRGF0ZVN0cmluZygpIDoKICAgICAgICAgICAgICAgICAgICAgICAgICAgICAgICAgICAgJ24vYSd9IC0gYCkpOwogICAgY29uc3QgcGVyY2VudCA9IHNwYW4oJzAlIGRvbmUnKTsKICAgIGxpLmFwcGVuZENoaWxkKHBlcmNlbnQpOwoKICAgIG91dHB1dEVsZW1lbnQuYXBwZW5kQ2hpbGQobGkpOwoKICAgIGNvbnN0IGZpbGVEYXRhUHJvbWlzZSA9IG5ldyBQcm9taXNlKChyZXNvbHZlKSA9PiB7CiAgICAgIGNvbnN0IHJlYWRlciA9IG5ldyBGaWxlUmVhZGVyKCk7CiAgICAgIHJlYWRlci5vbmxvYWQgPSAoZSkgPT4gewogICAgICAgIHJlc29sdmUoZS50YXJnZXQucmVzdWx0KTsKICAgICAgfTsKICAgICAgcmVhZGVyLnJlYWRBc0FycmF5QnVmZmVyKGZpbGUpOwogICAgfSk7CiAgICAvLyBXYWl0IGZvciB0aGUgZGF0YSB0byBiZSByZWFkeS4KICAgIGxldCBmaWxlRGF0YSA9IHlpZWxkIHsKICAgICAgcHJvbWlzZTogZmlsZURhdGFQcm9taXNlLAogICAgICByZXNwb25zZTogewogICAgICAgIGFjdGlvbjogJ2NvbnRpbnVlJywKICAgICAgfQogICAgfTsKCiAgICAvLyBVc2UgYSBjaHVua2VkIHNlbmRpbmcgdG8gYXZvaWQgbWVzc2FnZSBzaXplIGxpbWl0cy4gU2VlIGIvNjIxMTU2NjAuCiAgICBsZXQgcG9zaXRpb24gPSAwOwogICAgd2hpbGUgKHBvc2l0aW9uIDwgZmlsZURhdGEuYnl0ZUxlbmd0aCkgewogICAgICBjb25zdCBsZW5ndGggPSBNYXRoLm1pbihmaWxlRGF0YS5ieXRlTGVuZ3RoIC0gcG9zaXRpb24sIE1BWF9QQVlMT0FEX1NJWkUpOwogICAgICBjb25zdCBjaHVuayA9IG5ldyBVaW50OEFycmF5KGZpbGVEYXRhLCBwb3NpdGlvbiwgbGVuZ3RoKTsKICAgICAgcG9zaXRpb24gKz0gbGVuZ3RoOwoKICAgICAgY29uc3QgYmFzZTY0ID0gYnRvYShTdHJpbmcuZnJvbUNoYXJDb2RlLmFwcGx5KG51bGwsIGNodW5rKSk7CiAgICAgIHlpZWxkIHsKICAgICAgICByZXNwb25zZTogewogICAgICAgICAgYWN0aW9uOiAnYXBwZW5kJywKICAgICAgICAgIGZpbGU6IGZpbGUubmFtZSwKICAgICAgICAgIGRhdGE6IGJhc2U2NCwKICAgICAgICB9LAogICAgICB9OwogICAgICBwZXJjZW50LnRleHRDb250ZW50ID0KICAgICAgICAgIGAke01hdGgucm91bmQoKHBvc2l0aW9uIC8gZmlsZURhdGEuYnl0ZUxlbmd0aCkgKiAxMDApfSUgZG9uZWA7CiAgICB9CiAgfQoKICAvLyBBbGwgZG9uZS4KICB5aWVsZCB7CiAgICByZXNwb25zZTogewogICAgICBhY3Rpb246ICdjb21wbGV0ZScsCiAgICB9CiAgfTsKfQoKc2NvcGUuZ29vZ2xlID0gc2NvcGUuZ29vZ2xlIHx8IHt9OwpzY29wZS5nb29nbGUuY29sYWIgPSBzY29wZS5nb29nbGUuY29sYWIgfHwge307CnNjb3BlLmdvb2dsZS5jb2xhYi5fZmlsZXMgPSB7CiAgX3VwbG9hZEZpbGVzLAogIF91cGxvYWRGaWxlc0NvbnRpbnVlLAp9Owp9KShzZWxmKTsK",
       "headers": [
        [
         "content-type",
         "application/javascript"
        ]
       ],
       "ok": true,
       "status": 200,
       "status_text": "OK"
      }
     }
    },
    "executionInfo": {
     "elapsed": 5268,
     "status": "ok",
     "timestamp": 1604667385649,
     "user": {
      "displayName": "Fubu McClander",
      "photoUrl": "https://lh3.googleusercontent.com/a-/AOh14GiZoiZhF6XhXyW64Z5wUBZOsBWsCn7e-4GS-yFdKw=s64",
      "userId": "17579454543106084544"
     },
     "user_tz": -60
    },
    "id": "31FMkFX5d-Sr",
    "outputId": "a010d42c-6b71-41c0-8899-4b05fe2e68de"
   },
   "outputs": [],
   "source": [
    "uploaded = files.upload()\n",
    "filename = list(uploaded.keys())[0]\n",
    "traces = pd.read_csv(filename)"
   ]
  },
  {
   "cell_type": "code",
   "execution_count": null,
   "metadata": {
    "executionInfo": {
     "elapsed": 557,
     "status": "ok",
     "timestamp": 1604667388318,
     "user": {
      "displayName": "Fubu McClander",
      "photoUrl": "https://lh3.googleusercontent.com/a-/AOh14GiZoiZhF6XhXyW64Z5wUBZOsBWsCn7e-4GS-yFdKw=s64",
      "userId": "17579454543106084544"
     },
     "user_tz": -60
    },
    "id": "18hX1V8CeTMb"
   },
   "outputs": [],
   "source": [
    "traces['nox'] = traces.apply(lambda row: row.noxme + row.noxae, axis=1)\n",
    "traces['sox'] = traces.apply(lambda row: row.soxme + row.soxae, axis=1)\n",
    "traces['co2'] = traces.apply(lambda row: row.co2me + row.co2ae, axis=1)\n",
    "traces['co'] = traces.apply(lambda row: row.come + row.coae, axis=1)"
   ]
  },
  {
   "cell_type": "markdown",
   "metadata": {
    "id": "dvykkOcIhBqr"
   },
   "source": [
    "Cast ts a datetime (tipo de datos consciente del tiempo)"
   ]
  },
  {
   "cell_type": "code",
   "execution_count": null,
   "metadata": {
    "executionInfo": {
     "elapsed": 783,
     "status": "ok",
     "timestamp": 1604667390703,
     "user": {
      "displayName": "Fubu McClander",
      "photoUrl": "https://lh3.googleusercontent.com/a-/AOh14GiZoiZhF6XhXyW64Z5wUBZOsBWsCn7e-4GS-yFdKw=s64",
      "userId": "17579454543106084544"
     },
     "user_tz": -60
    },
    "id": "yG08FPXKhHQt"
   },
   "outputs": [],
   "source": [
    "traces['ts'] = pd.to_datetime(traces['ts'])"
   ]
  },
  {
   "cell_type": "markdown",
   "metadata": {
    "id": "ljxrAQWecbtx"
   },
   "source": [
    "# Acumulado de cada traza"
   ]
  },
  {
   "cell_type": "code",
   "execution_count": null,
   "metadata": {
    "colab": {
     "base_uri": "https://localhost:8080/",
     "height": 175
    },
    "executionInfo": {
     "elapsed": 811,
     "status": "ok",
     "timestamp": 1604667391365,
     "user": {
      "displayName": "Fubu McClander",
      "photoUrl": "https://lh3.googleusercontent.com/a-/AOh14GiZoiZhF6XhXyW64Z5wUBZOsBWsCn7e-4GS-yFdKw=s64",
      "userId": "17579454543106084544"
     },
     "user_tz": -60
    },
    "id": "3wTUIe_jcbtz",
    "outputId": "bc2e7310-518f-44f0-f1b0-c1f1f5bc8f10"
   },
   "outputs": [],
   "source": [
    "traces.drop(columns = ['uid', 'gid', 'lat', 'lon']).groupby('sid').sum()"
   ]
  },
  {
   "cell_type": "markdown",
   "metadata": {
    "id": "h5s62D2Ccbt8"
   },
   "source": [
    "# Traza 1"
   ]
  },
  {
   "cell_type": "code",
   "execution_count": null,
   "metadata": {
    "executionInfo": {
     "elapsed": 523,
     "status": "ok",
     "timestamp": 1604667393820,
     "user": {
      "displayName": "Fubu McClander",
      "photoUrl": "https://lh3.googleusercontent.com/a-/AOh14GiZoiZhF6XhXyW64Z5wUBZOsBWsCn7e-4GS-yFdKw=s64",
      "userId": "17579454543106084544"
     },
     "user_tz": -60
    },
    "id": "zdWcvQQ3cbt_"
   },
   "outputs": [],
   "source": [
    "trace1 = traces[traces.sid == 1]"
   ]
  },
  {
   "cell_type": "code",
   "execution_count": null,
   "metadata": {
    "colab": {
     "base_uri": "https://localhost:8080/",
     "height": 1000
    },
    "executionInfo": {
     "elapsed": 2100,
     "status": "ok",
     "timestamp": 1604667395800,
     "user": {
      "displayName": "Fubu McClander",
      "photoUrl": "https://lh3.googleusercontent.com/a-/AOh14GiZoiZhF6XhXyW64Z5wUBZOsBWsCn7e-4GS-yFdKw=s64",
      "userId": "17579454543106084544"
     },
     "user_tz": -60
    },
    "id": "Z-fsbQ-IcbuH",
    "outputId": "1c86f162-8003-4c1e-d3bd-10162f66bc2a"
   },
   "outputs": [],
   "source": [
    "pollutant = \"co2\" # nox, sox, co2, co\n",
    "plot_trace(trace1, height = 600, pollutant = pollutant)\n",
    "plot_trace_line(trace1, height = 600)"
   ]
  },
  {
   "cell_type": "markdown",
   "metadata": {
    "id": "EXfjZuE2cbuM"
   },
   "source": [
    "# Speed + Acceleration"
   ]
  },
  {
   "cell_type": "code",
   "execution_count": null,
   "metadata": {
    "executionInfo": {
     "elapsed": 1034,
     "status": "ok",
     "timestamp": 1604667399272,
     "user": {
      "displayName": "Fubu McClander",
      "photoUrl": "https://lh3.googleusercontent.com/a-/AOh14GiZoiZhF6XhXyW64Z5wUBZOsBWsCn7e-4GS-yFdKw=s64",
      "userId": "17579454543106084544"
     },
     "user_tz": -60
    },
    "id": "lX7tW8bocbuN"
   },
   "outputs": [],
   "source": [
    "speed = calculateSpeedAccPandas(trace1)"
   ]
  },
  {
   "cell_type": "code",
   "execution_count": null,
   "metadata": {
    "colab": {
     "base_uri": "https://localhost:8080/",
     "height": 1000
    },
    "executionInfo": {
     "elapsed": 2297,
     "status": "ok",
     "timestamp": 1604667400679,
     "user": {
      "displayName": "Fubu McClander",
      "photoUrl": "https://lh3.googleusercontent.com/a-/AOh14GiZoiZhF6XhXyW64Z5wUBZOsBWsCn7e-4GS-yFdKw=s64",
      "userId": "17579454543106084544"
     },
     "user_tz": -60
    },
    "id": "GmEn2b40cbuW",
    "outputId": "7c62da5b-934a-46e2-a52b-36fe41a9a089"
   },
   "outputs": [],
   "source": [
    "plot_line(speed, 'id', 'speed', title=\"Speed\")\n",
    "plot_line(speed, 'id', 'acc', title=\"Acceleration\")\n",
    "plot_line(speed, 'id', 'timeDiff', title=\"Time between messages\")"
   ]
  },
  {
   "cell_type": "markdown",
   "metadata": {
    "id": "W3Jlnp6Qcbub"
   },
   "source": [
    "# Emissions"
   ]
  },
  {
   "cell_type": "code",
   "execution_count": null,
   "metadata": {
    "executionInfo": {
     "elapsed": 745,
     "status": "ok",
     "timestamp": 1604667403340,
     "user": {
      "displayName": "Fubu McClander",
      "photoUrl": "https://lh3.googleusercontent.com/a-/AOh14GiZoiZhF6XhXyW64Z5wUBZOsBWsCn7e-4GS-yFdKw=s64",
      "userId": "17579454543106084544"
     },
     "user_tz": -60
    },
    "id": "SgCu1DgWcbud"
   },
   "outputs": [],
   "source": [
    "ship = getShipProfile()"
   ]
  },
  {
   "cell_type": "code",
   "execution_count": null,
   "metadata": {
    "colab": {
     "base_uri": "https://localhost:8080/",
     "height": 36
    },
    "executionInfo": {
     "elapsed": 642,
     "status": "ok",
     "timestamp": 1604667403342,
     "user": {
      "displayName": "Fubu McClander",
      "photoUrl": "https://lh3.googleusercontent.com/a-/AOh14GiZoiZhF6XhXyW64Z5wUBZOsBWsCn7e-4GS-yFdKw=s64",
      "userId": "17579454543106084544"
     },
     "user_tz": -60
    },
    "id": "5Uv7DT5Ucbul",
    "outputId": "7bd46f52-4355-4b69-c99b-159a9eb08b91"
   },
   "outputs": [],
   "source": [
    "ship['type'] # Try changing this value to \"Yatch\" and take a look to the auxiliary engine!"
   ]
  },
  {
   "cell_type": "code",
   "execution_count": null,
   "metadata": {
    "executionInfo": {
     "elapsed": 660,
     "status": "ok",
     "timestamp": 1604667405015,
     "user": {
      "displayName": "Fubu McClander",
      "photoUrl": "https://lh3.googleusercontent.com/a-/AOh14GiZoiZhF6XhXyW64Z5wUBZOsBWsCn7e-4GS-yFdKw=s64",
      "userId": "17579454543106084544"
     },
     "user_tz": -60
    },
    "id": "Isr314dMcbut",
    "scrolled": true
   },
   "outputs": [],
   "source": [
    "emis = computeEmissions(ship, speed['speed'], trace1['ts'])"
   ]
  },
  {
   "cell_type": "code",
   "execution_count": null,
   "metadata": {
    "colab": {
     "base_uri": "https://localhost:8080/"
    },
    "executionInfo": {
     "elapsed": 460,
     "status": "ok",
     "timestamp": 1604667451349,
     "user": {
      "displayName": "Fubu McClander",
      "photoUrl": "https://lh3.googleusercontent.com/a-/AOh14GiZoiZhF6XhXyW64Z5wUBZOsBWsCn7e-4GS-yFdKw=s64",
      "userId": "17579454543106084544"
     },
     "user_tz": -60
    },
    "id": "HEuiVuGLcbu3",
    "outputId": "8b0b31aa-73f7-4d32-b234-b3e2283a3a0f"
   },
   "outputs": [],
   "source": [
    "emis.drop(columns = ['id']).sum()\n"
   ]
  },
  {
   "cell_type": "code",
   "execution_count": null,
   "metadata": {
    "colab": {
     "base_uri": "https://localhost:8080/",
     "height": 1000
    },
    "executionInfo": {
     "elapsed": 3657,
     "status": "ok",
     "timestamp": 1604667468505,
     "user": {
      "displayName": "Fubu McClander",
      "photoUrl": "https://lh3.googleusercontent.com/a-/AOh14GiZoiZhF6XhXyW64Z5wUBZOsBWsCn7e-4GS-yFdKw=s64",
      "userId": "17579454543106084544"
     },
     "user_tz": -60
    },
    "id": "Tqc7-gX1cbu9",
    "outputId": "0c3e4d10-8296-4d48-e645-2e1bf4ad0904",
    "scrolled": true
   },
   "outputs": [],
   "source": [
    "plot_line(emis, 'id', 'soxme', title='SOx ME')\n",
    "plot_line(emis, 'id', 'soxae', title='SOx AE')\n",
    "plot_line(emis, 'id', 'noxme', title='NOx ME')\n",
    "plot_line(emis, 'id', 'noxae', title='NOx AE')\n",
    "plot_line(emis, 'id', 'co2me', title='CO2 ME')\n",
    "plot_line(emis, 'id', 'co2ae', title='CO2 AE')\n",
    "plot_line(emis, 'id', 'come', title='CO ME')\n"
   ]
  },
  {
   "cell_type": "code",
   "execution_count": null,
   "metadata": {
    "colab": {
     "base_uri": "https://localhost:8080/",
     "height": 238
    },
    "executionInfo": {
     "elapsed": 528,
     "status": "ok",
     "timestamp": 1604667468510,
     "user": {
      "displayName": "Fubu McClander",
      "photoUrl": "https://lh3.googleusercontent.com/a-/AOh14GiZoiZhF6XhXyW64Z5wUBZOsBWsCn7e-4GS-yFdKw=s64",
      "userId": "17579454543106084544"
     },
     "user_tz": -60
    },
    "id": "zbBXjhRGcbvF",
    "outputId": "56588325-6d06-4d40-9fe6-3cd7bfade4d7"
   },
   "outputs": [],
   "source": [
    "emis"
   ]
  },
  {
   "cell_type": "markdown",
   "metadata": {
    "id": "bjnTwC70omg1"
   },
   "source": [
    "# Ahora os toca a vosotros :)"
   ]
  },
  {
   "cell_type": "code",
   "execution_count": null,
   "metadata": {},
   "outputs": [],
   "source": [
    "import pandas as pd\n",
    "import numpy as np\n",
    "import math"
   ]
  },
  {
   "cell_type": "code",
   "execution_count": null,
   "metadata": {},
   "outputs": [],
   "source": [
    "msToKnots = np.float64(1.943844)"
   ]
  },
  {
   "cell_type": "markdown",
   "metadata": {},
   "source": [
    "##  Speed"
   ]
  },
  {
   "cell_type": "code",
   "execution_count": null,
   "metadata": {},
   "outputs": [],
   "source": [
    "# Ind\n",
    "def myCalculateSpeed(coords, prevCoords, timeDiff, speedMultiplier=2):\n",
    "    # Assume that 1º = 111,139 meters\n",
    "    # Multiply the obtained speed by the speedMultiplier (2)\n",
    "    # Returns speed in knots <---- KNOTS, OJO!\n",
    "    return(\"The earth is flat\")"
   ]
  },
  {
   "cell_type": "code",
   "execution_count": null,
   "metadata": {},
   "outputs": [],
   "source": [
    "def myCalculateAcc(timeDiff, speed):\n",
    "    acc = np.zeros(len(speed))\n",
    "    # Some calculations here :)\n",
    "    return(acc)"
   ]
  },
  {
   "cell_type": "code",
   "execution_count": null,
   "metadata": {},
   "outputs": [],
   "source": [
    "def myCalculateSpeedAccPandas(df):\n",
    "    speed = np.zeros(len(df))\n",
    "    timeDiff = np.zeros(len(df))\n",
    "    for i in range(1, len(df)):\n",
    "        timeDiff[i] = (df.iloc[i]['ts'] - df.iloc[i-1]['ts']).total_seconds()\n",
    "        speed[i] = calculateSpeed(df.iloc[i], df.iloc[i-1], timeDiff[i])\n",
    "    acc = calculateAcc(timeDiff, speed)\n",
    "    return(pd.DataFrame({'id':list(range(0,len(df))),'speed': speed, 'acc': acc, 'timeDiff': timeDiff}))"
   ]
  },
  {
   "cell_type": "markdown",
   "metadata": {},
   "source": [
    "## Emisiones"
   ]
  },
  {
   "cell_type": "code",
   "execution_count": null,
   "metadata": {},
   "outputs": [],
   "source": [
    "# Individual samples\n",
    "def myTransientPowerME(VTransient, VDesign, PInstalled, EpsilonP=0.8,\n",
    "                     VSafety=0.5):\n",
    "    return(0)"
   ]
  },
  {
   "cell_type": "code",
   "execution_count": null,
   "metadata": {},
   "outputs": [],
   "source": [
    "# Ind\n",
    "def myTransientPowerAE(speed, shipType, instPow):\n",
    "    return(0)"
   ]
  },
  {
   "cell_type": "code",
   "execution_count": null,
   "metadata": {},
   "outputs": [],
   "source": [
    "def myCalcSOxEmissionFactor(SFOC=200, SC=0.001):\n",
    "    return(0)"
   ]
  },
  {
   "cell_type": "code",
   "execution_count": null,
   "metadata": {},
   "outputs": [],
   "source": [
    "def myCalcCO2EmissionFactor(SFOC=200, CC=0.85):\n",
    "    return(0)"
   ]
  },
  {
   "cell_type": "code",
   "execution_count": null,
   "metadata": {},
   "outputs": [],
   "source": [
    "def myCalcNOxEmissionFactor(rpm):\n",
    "    return(0)"
   ]
  },
  {
   "cell_type": "code",
   "execution_count": null,
   "metadata": {},
   "outputs": [],
   "source": [
    "def myCalcABC(speedDiff, timeDiff, alpha=582):\n",
    "    # speed is in knots, we need it in m/s here!\n",
    "    # np.abs gives us the absolute value of a number\n",
    "    return(33)"
   ]
  },
  {
   "cell_type": "code",
   "execution_count": null,
   "metadata": {},
   "outputs": [],
   "source": [
    "def myCalcCOEmissionFactor(speedDiff, timeDiff, COBase = 0.8):\n",
    "    return(1337)"
   ]
  },
  {
   "cell_type": "code",
   "execution_count": null,
   "metadata": {},
   "outputs": [],
   "source": [
    "def myComputeEmissions(ship, speed, time):\n",
    "    # Static for every step\n",
    "    NOxEF = calcNOxEmissionFactor(ship['rpm'])\n",
    "    SOxEF = calcSOxEmissionFactor()\n",
    "    CO2EF = calcCO2EmissionFactor()\n",
    "\n",
    "    # Dinamic regarding speed! (Vector!)\n",
    "    # Duplicate first element\n",
    "    s = pd.concat([pd.Series(speed.iloc[0]), speed])\n",
    "    t = pd.concat([pd.Series(time.iloc[0]), time])\n",
    "\n",
    "\n",
    "    speedDiff = np.diff(s, n=1)\n",
    "    timeDiff =  np.diff(t, n=1)\n",
    "    timeDiff = [ max(1, int(t.total_seconds())) for t in timeDiff ]\n",
    "    \n",
    "    #COEF = calcCOEmissionFactor(speed, prevSpeed, timeDiff)\n",
    "    COEF = np.array([ calcCOEmissionFactor(s, t) for s,t in zip(speedDiff, timeDiff) ])\n",
    "\n",
    "    pME = np.array([ transientPowerME(s, ship['designSpeed'], ship['installedME']) for s in speed ])\n",
    "    pAE = np.array([ transientPowerAE(s, ship['type'], ship['installedAE']) for s in speed ])\n",
    "\n",
    "    # Dividing by 3600 makes the emissions from hours to seconds\n",
    "    emis = pd.DataFrame({\n",
    "        'id': list(range(0,len(speed))),\n",
    "        'speed': speed,\n",
    "        'noxme': (NOxEF * pME / 3600),\n",
    "        'soxme': (SOxEF * pME / 3600),\n",
    "        'co2me': (CO2EF * pME / 3600),\n",
    "        'come': (COEF * pME / 3600),\n",
    "        'noxae': (NOxEF * pAE / 3600),\n",
    "        'soxae': (SOxEF * pAE / 3600),\n",
    "        'co2ae': (CO2EF * pAE / 3600),\n",
    "        'coae': 0, # (COEF * pAE / 3600),\n",
    "        'pme': pME,\n",
    "        'pae': pAE\n",
    "    })\n",
    "    return(emis)"
   ]
  },
  {
   "cell_type": "code",
   "execution_count": null,
   "metadata": {},
   "outputs": [],
   "source": [
    "def myGetShipProfile():\n",
    "    ship = dict({\n",
    "        'type': 'Passenger/Ro-Ro Cargo Ship',\n",
    "        'designSpeed': 21.4,\n",
    "        'installedME': 18006,\n",
    "        'installedAE': 3420,\n",
    "        'rpm': 500\n",
    "    })\n",
    "    return(ship)"
   ]
  },
  {
   "cell_type": "markdown",
   "metadata": {},
   "source": [
    "## Pruebas de velocidad"
   ]
  },
  {
   "cell_type": "code",
   "execution_count": null,
   "metadata": {},
   "outputs": [],
   "source": [
    "speed = calculateSpeedAccPandas(trace1)"
   ]
  },
  {
   "cell_type": "code",
   "execution_count": null,
   "metadata": {},
   "outputs": [],
   "source": [
    "myspeed = myCalculateSpeedAccPandas(trace1)"
   ]
  },
  {
   "cell_type": "markdown",
   "metadata": {},
   "source": [
    "## Pruebas de emisiones"
   ]
  },
  {
   "cell_type": "code",
   "execution_count": null,
   "metadata": {},
   "outputs": [],
   "source": [
    "emis = computeEmissions(ship, speed['speed'], trace1['ts'])\n",
    "myemis = myComputeEmissions(ship, myspeed['speed'], trace1['ts'])"
   ]
  }
 ],
 "metadata": {
  "colab": {
   "collapsed_sections": [],
   "name": "ChekingEmissions.ipynb",
   "provenance": []
  },
  "jupytext": {
   "cell_metadata_filter": "-all",
   "notebook_metadata_filter": "-all"
  },
  "kernelspec": {
   "display_name": "Python 3",
   "language": "python",
   "name": "python3"
  },
  "language_info": {
   "codemirror_mode": {
    "name": "ipython",
    "version": 3
   },
   "file_extension": ".py",
   "mimetype": "text/x-python",
   "name": "python",
   "nbconvert_exporter": "python",
   "pygments_lexer": "ipython3",
   "version": "3.6.8"
  },
  "toc": {
   "base_numbering": 1,
   "nav_menu": {},
   "number_sections": true,
   "sideBar": false,
   "skip_h1_title": false,
   "title_cell": "Table of Contents",
   "title_sidebar": "Contents",
   "toc_cell": false,
   "toc_position": {},
   "toc_section_display": true,
   "toc_window_display": false
  }
 },
 "nbformat": 4,
 "nbformat_minor": 1
}
